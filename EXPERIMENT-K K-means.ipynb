{
  "cells": [
    {
      "cell_type": "markdown",
      "metadata": {},
      "source": "## Swap test"
    },
    {
      "cell_type": "code",
      "execution_count": 5,
      "metadata": {
        "trusted": true
      },
      "outputs": [
        {
          "data": {
            "text/latex": "$\\displaystyle \n\\text{Statevector} = \\begin{bmatrix}\n0.7 \\\\\n0 \\\\\n0.4 \\\\\n0.3 \\\\\n0.4 \\\\\n-0.3 \\\\\n0.1 \\\\\n0\n\\end{bmatrix}\n$",
            "text/plain": "<IPython.core.display.Math object>"
          },
          "metadata": {},
          "output_type": "display_data"
        }
      ],
      "source": "%matplotlib inline\n\nfrom qiskit.visualization import plot_state_city, plot_bloch_multivector\nfrom qiskit_textbook.tools import array_to_latex\nfrom math import pi\n\nfrom qiskit import Aer, IBMQ, execute\nfrom qiskit import QuantumCircuit, ClassicalRegister, QuantumRegister\nfrom qiskit.tools.visualization import plot_histogram\nbackend = Aer.get_backend('qasm_simulator')\n\ndata = [0.01, 0.02, 0.03, 0.04, 0.05, 1.31, 1.32, 1.33, 1.34, 1.35]\n\nqr_distance = QuantumRegister(1)\nqr = QuantumRegister(2)\ncr = ClassicalRegister(1)\nqc = QuantumCircuit(qr_distance, qr, cr)\n\ni=0\nj=6\n\nqc.h(qr_distance[0])\nqc.h(qr[0])\nqc.h(qr[1])\nqc.u3(data[i], pi, pi, qr[0])\nqc.u3(data[j], pi, pi, qr[1])\nqc.cswap(qr_distance[0], qr[0], qr[1])\nqc.h(qr_distance[0])\n\nstvBackend = Aer.get_backend('statevector_simulator')\njob = execute (qc, stvBackend)\nstate = job.result().get_statevector()\narray_to_latex(state, pretext=\"\\\\text{Statevector} = \", precision=1)\n"
    },
    {
      "cell_type": "code",
      "execution_count": 6,
      "metadata": {
        "trusted": true
      },
      "outputs": [
        {
          "data": {
            "image/png": "[encoded data removed]",
            "text/plain": "<Figure size 468.029x264.88 with 1 Axes>"
          },
          "execution_count": 6,
          "metadata": {},
          "output_type": "execute_result"
        }
      ],
      "source": "qc.draw()"
    },
    {
      "cell_type": "code",
      "execution_count": 7,
      "metadata": {
        "trusted": true
      },
      "outputs": [
        {
          "name": "stdout",
          "output_type": "stream",
          "text": "{'0': 832, '1': 192}\n"
        }
      ],
      "source": "qc.measure(qr_distance[0], cr[0])\n\nbackend = Aer.get_backend('qasm_simulator')\njob = execute(qc,   backend=backend, shots=1024)\nresult = job.result()\n\nprint (result.get_counts())"
    },
    {
      "cell_type": "code",
      "execution_count": null,
      "metadata": {
        "trusted": true
      },
      "outputs": [],
      "source": ""
    },
    {
      "cell_type": "code",
      "execution_count": null,
      "metadata": {
        "trusted": true
      },
      "outputs": [],
      "source": ""
    },
    {
      "cell_type": "code",
      "execution_count": null,
      "metadata": {
        "trusted": true
      },
      "outputs": [],
      "source": ""
    },
    {
      "cell_type": "code",
      "execution_count": null,
      "metadata": {
        "trusted": true
      },
      "outputs": [],
      "source": ""
    },
    {
      "cell_type": "code",
      "execution_count": null,
      "metadata": {
        "trusted": true
      },
      "outputs": [],
      "source": "\n\n"
    }
  ],
  "metadata": {
    "kernelspec": {
      "display_name": "Python 3",
      "language": "python",
      "name": "python3"
    },
    "language_info": {
      "codemirror_mode": {
        "name": "ipython",
        "version": 3
      },
      "file_extension": ".py",
      "mimetype": "text/x-python",
      "name": "python",
      "nbconvert_exporter": "python",
      "pygments_lexer": "ipython3",
      "version": "3.7.8"
    }
  },
  "nbformat": 4,
  "nbformat_minor": 2
}