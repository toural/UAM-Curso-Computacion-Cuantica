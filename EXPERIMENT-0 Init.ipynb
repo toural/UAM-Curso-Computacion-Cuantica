{
  "cells": [
    {
      "cell_type": "markdown",
      "metadata": {},
      "source": "<br>\n<br>\n<br>    \n    <h1> \n        <span style=\"color:green;\">\n        <span style='font-family:Verdana'>\n            <b>Universidad Autónoma de Madrid</b>\n        </span>\n        </span>\n    </h1>\n\n  <h1> \n        <span style=\"color:green;\">\n        <span style='font-family:Verdana'>\n            <b>Quantum Computing</b>\n        </span>\n        </span>\n    </h1>\n        <h1> \n        <span style=\"color:green;\">\n        <span style='font-family:Verdana'>\n            <b>______________________________________</b>\n        </span>\n        </span>\n    </h1>\n<p>\n<h2><b>Programming a Quantum Processor with IBM QISKit</b></h2>\n<br>\n<br>\n<h2>Juan Luis Sánchez Toural</h2>\n<h4>IBM QISKit Advocate</h4>\n<h4>PhD candidate UAM</h4>\n<h4>jl.sanchez.toural@gmail.com</h4>\n<h4>linkedin.com/in/jls-toural</h4>\n<br>\n<br>\n<br>\n<br>\n<br>\n<br>\n<br> </span>\n    "
    },
    {
      "cell_type": "markdown",
      "metadata": {},
      "source": "\n<br>\n<br>\n<br>  \n\n<br>\n<br>\n<br>  \n    <h2><b><span style='font-family:Verdana'>Programming a Quantum Processor with IBM QISKit\n        </span>\n</h2>\n    <h2><b><span style='font-family:Verdana'>Part 1\n        </span>\n</h2>\n        <h1> \n        <span style=\"color:green;\">\n        <span style='font-family:Verdana'>\n            <b>______________________________________</b>\n        </span>\n        </span>\n    </h1>\n<p>\n    <br>\n<br>\n<br>\n<ul>\n<li><span style='font-family:Verdana'>QISKit Terra</li>\n<li><span style='font-family:Verdana'>QISKit Aer</li>\n<li><span style='font-family:Verdana'>QISKit Ignis</li>\n<li><span style='font-family:Verdana'>QISKIT Aqua</li>\n<br>\n<br>\n<br>\n    <br>\n<br>\n<br>"
    },
    {
      "cell_type": "code",
      "execution_count": 4,
      "metadata": {
        "trusted": true
      },
      "outputs": [
        {
          "name": "stderr",
          "output_type": "stream",
          "text": "ibmqfactory.load_account:WARNING:2020-10-19 15:56:43,522: Credentials are already in use. The existing account in the session will be replaced.\n"
        }
      ],
      "source": "%matplotlib inline\n# Importing standard Qiskit libraries and configuring account\nfrom qiskit import *\nfrom qiskit.compiler import transpile, assemble\nfrom qiskit.tools.jupyter import *\nfrom qiskit.visualization import *\n# Loading your IBM Q account(s)\nprovider = IBMQ.load_account()"
    },
    {
      "cell_type": "code",
      "execution_count": 5,
      "metadata": {
        "trusted": true
      },
      "outputs": [],
      "source": "circuit = QuantumCircuit()"
    },
    {
      "cell_type": "code",
      "execution_count": 6,
      "metadata": {
        "trusted": true
      },
      "outputs": [],
      "source": "qRegister = QuantumRegister(1, 'qreg')"
    },
    {
      "cell_type": "code",
      "execution_count": 7,
      "metadata": {
        "trusted": true
      },
      "outputs": [],
      "source": "circuit.add_register(qRegister)"
    },
    {
      "cell_type": "code",
      "execution_count": 8,
      "metadata": {
        "scrolled": true,
        "trusted": true
      },
      "outputs": [
        {
          "data": {
            "image/png": "[encoded data removed]",
            "text/plain": "<Figure size 162.121x84.28 with 1 Axes>"
          },
          "execution_count": 8,
          "metadata": {},
          "output_type": "execute_result"
        }
      ],
      "source": "circuit.draw()"
    },
    {
      "cell_type": "code",
      "execution_count": 10,
      "metadata": {
        "trusted": true
      },
      "outputs": [
        {
          "data": {
            "text/plain": "<qiskit.circuit.instructionset.InstructionSet at 0x7f631aac9890>"
          },
          "execution_count": 10,
          "metadata": {},
          "output_type": "execute_result"
        }
      ],
      "source": "circuit.h(qRegister[0])"
    },
    {
      "cell_type": "code",
      "execution_count": 11,
      "metadata": {
        "trusted": true
      },
      "outputs": [
        {
          "data": {
            "text/plain": "<qiskit.circuit.instructionset.InstructionSet at 0x7f631aad6090>"
          },
          "execution_count": 11,
          "metadata": {},
          "output_type": "execute_result"
        }
      ],
      "source": "circuit.x(qRegister[0])"
    },
    {
      "cell_type": "code",
      "execution_count": 12,
      "metadata": {
        "trusted": true
      },
      "outputs": [
        {
          "data": {
            "image/png": "[encoded data removed]",
            "text/plain": "<Figure size 342.721x84.28 with 1 Axes>"
          },
          "execution_count": 12,
          "metadata": {},
          "output_type": "execute_result"
        }
      ],
      "source": "circuit.draw()"
    },
    {
      "cell_type": "code",
      "execution_count": 13,
      "metadata": {
        "trusted": true
      },
      "outputs": [
        {
          "data": {
            "text/plain": "<qiskit.circuit.instructionset.InstructionSet at 0x7f631ab05410>"
          },
          "execution_count": 13,
          "metadata": {},
          "output_type": "execute_result"
        }
      ],
      "source": "circuit.s(qRegister[0])"
    },
    {
      "cell_type": "code",
      "execution_count": 14,
      "metadata": {
        "trusted": true
      },
      "outputs": [
        {
          "data": {
            "image/png": "[encoded data removed]",
            "text/plain": "<Figure size 402.921x84.28 with 1 Axes>"
          },
          "execution_count": 14,
          "metadata": {},
          "output_type": "execute_result"
        }
      ],
      "source": "circuit.draw()"
    },
    {
      "cell_type": "code",
      "execution_count": 15,
      "metadata": {
        "trusted": true
      },
      "outputs": [
        {
          "name": "stdout",
          "output_type": "stream",
          "text": "[(<qiskit.circuit.library.standard_gates.h.HGate object at 0x7f631ab49e90>, [Qubit(QuantumRegister(1, 'qreg'), 0)], []), (<qiskit.circuit.library.standard_gates.h.HGate object at 0x7f631aac97d0>, [Qubit(QuantumRegister(1, 'qreg'), 0)], []), (<qiskit.circuit.library.standard_gates.x.XGate object at 0x7f631aac9f90>, [Qubit(QuantumRegister(1, 'qreg'), 0)], []), (<qiskit.circuit.library.standard_gates.s.SGate object at 0x7f631ab05310>, [Qubit(QuantumRegister(1, 'qreg'), 0)], [])]\n"
        }
      ],
      "source": "print (circuit.data)"
    },
    {
      "cell_type": "code",
      "execution_count": 16,
      "metadata": {
        "trusted": true
      },
      "outputs": [
        {
          "data": {
            "text/plain": "(<qiskit.circuit.library.standard_gates.h.HGate at 0x7f631aac97d0>,\n [Qubit(QuantumRegister(1, 'qreg'), 0)],\n [])"
          },
          "execution_count": 16,
          "metadata": {},
          "output_type": "execute_result"
        }
      ],
      "source": "circuit.data.pop(1)"
    },
    {
      "cell_type": "code",
      "execution_count": 17,
      "metadata": {
        "trusted": true
      },
      "outputs": [
        {
          "name": "stdout",
          "output_type": "stream",
          "text": "[(<qiskit.circuit.library.standard_gates.h.HGate object at 0x7f631ab49e90>, [Qubit(QuantumRegister(1, 'qreg'), 0)], []), (<qiskit.circuit.library.standard_gates.x.XGate object at 0x7f631aac9f90>, [Qubit(QuantumRegister(1, 'qreg'), 0)], []), (<qiskit.circuit.library.standard_gates.s.SGate object at 0x7f631ab05310>, [Qubit(QuantumRegister(1, 'qreg'), 0)], [])]\n"
        }
      ],
      "source": "print (circuit.data)"
    },
    {
      "cell_type": "code",
      "execution_count": 18,
      "metadata": {
        "trusted": true
      },
      "outputs": [
        {
          "data": {
            "image/png": "[encoded data removed]",
            "text/plain": "<Figure size 342.721x84.28 with 1 Axes>"
          },
          "execution_count": 18,
          "metadata": {},
          "output_type": "execute_result"
        }
      ],
      "source": "circuit.draw()"
    },
    {
      "cell_type": "code",
      "execution_count": 19,
      "metadata": {
        "trusted": true
      },
      "outputs": [
        {
          "data": {
            "text/plain": "(<qiskit.circuit.library.standard_gates.h.HGate at 0x7f631ab49e90>,\n [Qubit(QuantumRegister(1, 'qreg'), 0)],\n [])"
          },
          "execution_count": 19,
          "metadata": {},
          "output_type": "execute_result"
        }
      ],
      "source": "circuit.data.pop(0)"
    },
    {
      "cell_type": "code",
      "execution_count": 20,
      "metadata": {
        "trusted": true
      },
      "outputs": [
        {
          "data": {
            "image/png": "[encoded data removed]",
            "text/plain": "<Figure size 282.521x84.28 with 1 Axes>"
          },
          "execution_count": 20,
          "metadata": {},
          "output_type": "execute_result"
        }
      ],
      "source": "circuit.draw()"
    },
    {
      "cell_type": "code",
      "execution_count": null,
      "metadata": {
        "trusted": true
      },
      "outputs": [],
      "source": ""
    }
  ],
  "metadata": {
    "kernelspec": {
      "display_name": "Python 3",
      "language": "python",
      "name": "python3"
    },
    "language_info": {
      "codemirror_mode": {
        "name": "ipython",
        "version": 3
      },
      "file_extension": ".py",
      "mimetype": "text/x-python",
      "name": "python",
      "nbconvert_exporter": "python",
      "pygments_lexer": "ipython3",
      "version": "3.7.8"
    }
  },
  "nbformat": 4,
  "nbformat_minor": 4
}