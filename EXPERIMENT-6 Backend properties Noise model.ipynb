{
  "cells": [
    {
      "cell_type": "code",
      "execution_count": null,
      "metadata": {
        "trusted": true
      },
      "outputs": [],
      "source": "#          PROVIDERS & BACKENDS   #############################################################\n# Qiskit includes interfaces to two providers:\n# Aer: access to several simulators included with Qiskit and run on your local machine\n# IBMQ: access to cloud-based backends — simulators and real quantum devices — hosted on IBM Q\n# https://medium.com/qiskit/qiskit-backends-what-they-are-and-how-to-work-with-them-fb66b3bd0463\n\nfrom qiskit import IBMQ\nfrom qiskit import Aer\nfrom qiskit import *\n\n# IBMQ.update_account()\n\nIBMQ.load_account()\n\nprint (\"IBMQ providers: \")\nfor provider in IBMQ.providers():\n    print(provider)\n"
    },
    {
      "cell_type": "code",
      "execution_count": 2,
      "metadata": {
        "trusted": true
      },
      "outputs": [
        {
          "name": "stdout",
          "output_type": "stream",
          "text": "IBMQ backends: \nibmq_qasm_simulator\nibmqx2\nibmq_16_melbourne\nibmq_vigo\nibmq_ourense\nibmq_valencia\nibmq_armonk\nibmq_athens\nibmq_santiago\n"
        }
      ],
      "source": "print (\"IBMQ backends: \")\nfor backend in provider.backends():\n    print(backend.name())"
    },
    {
      "cell_type": "code",
      "execution_count": 3,
      "metadata": {
        "trusted": true
      },
      "outputs": [
        {
          "name": "stdout",
          "output_type": "stream",
          "text": "--------- Melbourne name: \nibmq_16_melbourne\n"
        }
      ],
      "source": "melbourne = provider.get_backend('ibmq_16_melbourne')\n\n# The name of the backend\nprint (\"--------- Melbourne name: \")\nmelbourne_name = melbourne.name()\nprint(melbourne_name)"
    },
    {
      "cell_type": "code",
      "execution_count": 4,
      "metadata": {
        "trusted": true
      },
      "outputs": [
        {
          "name": "stdout",
          "output_type": "stream",
          "text": "--------- Melbourne properties: \n"
        }
      ],
      "source": "# A dictionary of backend specific properties\nprint (\"--------- Melbourne properties: \")\nmelbourne_properties = melbourne.properties()\n# print(melbourne_properties)"
    },
    {
      "cell_type": "code",
      "execution_count": 5,
      "metadata": {
        "trusted": true
      },
      "outputs": [
        {
          "name": "stdout",
          "output_type": "stream",
          "text": "--------- Melbourne coupling map: \n[[0, 1], [0, 14], [1, 0], [1, 2], [1, 13], [2, 1], [2, 3], [2, 12], [3, 2], [3, 4], [3, 11], [4, 3], [4, 5], [4, 10], [5, 4], [5, 6], [5, 9], [6, 5], [6, 8], [7, 8], [8, 6], [8, 7], [8, 9], [9, 5], [9, 8], [9, 10], [10, 4], [10, 9], [10, 11], [11, 3], [11, 10], [11, 12], [12, 2], [12, 11], [12, 13], [13, 1], [13, 12], [13, 14], [14, 0], [14, 13]]\n"
        }
      ],
      "source": "# Part of the configuration is the coupling map\nprint (\"--------- Melbourne coupling map: \")\nmelbourne_coupling_map = melbourne.configuration().coupling_map\nprint(melbourne_coupling_map)"
    },
    {
      "cell_type": "code",
      "execution_count": 6,
      "metadata": {
        "trusted": true
      },
      "outputs": [
        {
          "name": "stdout",
          "output_type": "stream",
          "text": "--------- Melbourne status: \nTrue\n21\n"
        }
      ],
      "source": "# status(): A dictionary of the backend’s status, such as how many jobs it has queued\nprint (\"--------- Melbourne status: \")\n\nstatus = melbourne.status()\nis_operational = status.operational\njobs_in_queue = status.pending_jobs\n\nprint(is_operational)\nprint(jobs_in_queue)"
    },
    {
      "cell_type": "code",
      "execution_count": 7,
      "metadata": {
        "trusted": true
      },
      "outputs": [
        {
          "name": "stdout",
          "output_type": "stream",
          "text": "NoiseModel:\n  Basis gates: ['cx', 'id', 'u2', 'u3']\n  Instructions with noise: ['measure', 'u3', 'u2', 'cx', 'id']\n  Qubits with noise: [0, 1, 2, 3, 4, 5, 6, 7, 8, 9, 10, 11, 12, 13, 14]\n  Specific qubit errors: [('id', [0]), ('id', [1]), ('id', [2]), ('id', [3]), ('id', [4]), ('id', [5]), ('id', [6]), ('id', [7]), ('id', [8]), ('id', [9]), ('id', [10]), ('id', [11]), ('id', [12]), ('id', [13]), ('id', [14]), ('u2', [0]), ('u2', [1]), ('u2', [2]), ('u2', [3]), ('u2', [4]), ('u2', [5]), ('u2', [6]), ('u2', [7]), ('u2', [8]), ('u2', [9]), ('u2', [10]), ('u2', [11]), ('u2', [12]), ('u2', [13]), ('u2', [14]), ('u3', [0]), ('u3', [1]), ('u3', [2]), ('u3', [3]), ('u3', [4]), ('u3', [5]), ('u3', [6]), ('u3', [7]), ('u3', [8]), ('u3', [9]), ('u3', [10]), ('u3', [11]), ('u3', [12]), ('u3', [13]), ('u3', [14]), ('cx', [0, 1]), ('cx', [0, 14]), ('cx', [1, 0]), ('cx', [1, 2]), ('cx', [1, 13]), ('cx', [2, 1]), ('cx', [2, 3]), ('cx', [2, 12]), ('cx', [3, 2]), ('cx', [3, 4]), ('cx', [3, 11]), ('cx', [4, 3]), ('cx', [4, 5]), ('cx', [4, 10]), ('cx', [5, 4]), ('cx', [5, 6]), ('cx', [5, 9]), ('cx', [6, 5]), ('cx', [6, 8]), ('cx', [7, 8]), ('cx', [8, 6]), ('cx', [8, 7]), ('cx', [8, 9]), ('cx', [9, 5]), ('cx', [9, 8]), ('cx', [9, 10]), ('cx', [10, 4]), ('cx', [10, 9]), ('cx', [10, 11]), ('cx', [11, 3]), ('cx', [11, 10]), ('cx', [11, 12]), ('cx', [12, 2]), ('cx', [12, 11]), ('cx', [12, 13]), ('cx', [13, 1]), ('cx', [13, 12]), ('cx', [13, 14]), ('cx', [14, 0]), ('cx', [14, 13]), ('measure', [0]), ('measure', [1]), ('measure', [2]), ('measure', [3]), ('measure', [4]), ('measure', [5]), ('measure', [6]), ('measure', [7]), ('measure', [8]), ('measure', [9]), ('measure', [10]), ('measure', [11]), ('measure', [12]), ('measure', [13]), ('measure', [14])]\n"
        }
      ],
      "source": "# construct a noise model to mimic the noise of the melbourne device \nfrom qiskit.visualization import plot_histogram\nfrom qiskit.providers.aer.noise import NoiseModel\n\nemulator = Aer.get_backend('qasm_simulator')\n\nnoise_model = NoiseModel.from_backend(melbourne)\nprint(noise_model)"
    },
    {
      "cell_type": "code",
      "execution_count": 8,
      "metadata": {
        "trusted": true
      },
      "outputs": [
        {
          "name": "stdout",
          "output_type": "stream",
          "text": "OPENQASM 2.0;\ninclude \"qelib1.inc\";\nqreg q[2];\ncreg c[2];\nx q[1];\nmeasure q[0] -> c[0];\nmeasure q[1] -> c[1];\n\n"
        },
        {
          "data": {
            "image/png": "[encoded data removed]",
            "text/plain": "<Figure size 504x360 with 1 Axes>"
          },
          "execution_count": 8,
          "metadata": {},
          "output_type": "execute_result"
        }
      ],
      "source": "qc = QuantumCircuit(2,2)\nqc.x(1)\nqc.measure(0,0)\nqc.measure(1,1)\n\nprint(qc.qasm())\n\njob = execute(qc, emulator, shots=1024)\nhistogram = job.result().get_counts()\nplot_histogram( histogram )"
    },
    {
      "cell_type": "code",
      "execution_count": 9,
      "metadata": {
        "trusted": true
      },
      "outputs": [
        {
          "name": "stdout",
          "output_type": "stream",
          "text": "{'10': 1024}\n{'00': 66, '10': 952, '11': 6}\n"
        },
        {
          "data": {
            "image/png": "[encoded data removed]",
            "text/plain": "<Figure size 504x360 with 1 Axes>"
          },
          "execution_count": 9,
          "metadata": {},
          "output_type": "execute_result"
        }
      ],
      "source": "job2 = execute(qc, emulator, shots=1024, noise_model=noise_model,\ncoupling_map=melbourne_coupling_map,\nbasis_gates=noise_model.basis_gates)\n\nhistogram2 = job2.result().get_counts()\nlegend = ['no noise', 'melbourne noise']\n\nprint (histogram)\nprint (histogram2)\n\nplot_histogram([histogram, histogram2],legend=legend)"
    },
    {
      "cell_type": "code",
      "execution_count": null,
      "metadata": {
        "trusted": true
      },
      "outputs": [],
      "source": ""
    },
    {
      "cell_type": "code",
      "execution_count": null,
      "metadata": {
        "trusted": true
      },
      "outputs": [],
      "source": ""
    },
    {
      "cell_type": "code",
      "execution_count": null,
      "metadata": {
        "trusted": true
      },
      "outputs": [],
      "source": ""
    }
  ],
  "metadata": {
    "kernelspec": {
      "display_name": "Python 3",
      "language": "python",
      "name": "python3"
    },
    "language_info": {
      "codemirror_mode": {
        "name": "ipython",
        "version": 3
      },
      "file_extension": ".py",
      "mimetype": "text/x-python",
      "name": "python",
      "nbconvert_exporter": "python",
      "pygments_lexer": "ipython3",
      "version": "3.7.8"
    }
  },
  "nbformat": 4,
  "nbformat_minor": 2
}