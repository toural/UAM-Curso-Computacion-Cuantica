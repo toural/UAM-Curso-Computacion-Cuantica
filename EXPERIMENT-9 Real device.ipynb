{
  "cells": [
    {
      "cell_type": "code",
      "execution_count": 1,
      "metadata": {
        "trusted": true
      },
      "outputs": [
        {
          "name": "stderr",
          "output_type": "stream",
          "text": "/opt/conda/lib/python3.7/site-packages/qiskit/providers/ibmq/ibmqfactory.py:192: UserWarning: Timestamps in IBMQ backend properties, jobs, and job results are all now in local time instead of UTC.\n  warnings.warn('Timestamps in IBMQ backend properties, jobs, and job results '\n"
        },
        {
          "name": "stdout",
          "output_type": "stream",
          "text": "[<AccountProvider for IBMQ(hub='ibm-q', group='open', project='main')>]\nIBMQ backends: \nibmq_qasm_simulator\nFalse\nibmqx2\nFalse\nibmq_16_melbourne\nFalse\nibmq_vigo\nFalse\nibmq_ourense\nFalse\nibmq_valencia\nFalse\nibmq_armonk\nTrue\nibmq_athens\nFalse\nibmq_santiago\nFalse\n"
        }
      ],
      "source": "import time\n#initialization\nimport matplotlib.pyplot as plt\nimport numpy as np\n%matplotlib inline\n%config InlineBackend.figure_format = 'svg' # Makes the images look nice\n\n# importing Qiskit\nfrom qiskit import IBMQ, Aer\nfrom qiskit.providers.ibmq import least_busy\nfrom qiskit import QuantumCircuit, ClassicalRegister, QuantumRegister, execute\n\n# import basic plot tools\nfrom qiskit.visualization import plot_histogram\n\n# IBMQ.update_account()\n\nIBMQ.load_account()\n\nqc = QuantumCircuit (2,2)\n\nqc.h(0)\nqc.cx(0,1)\nqc.measure(0,0)\nqc.measure(1,1)\n\nprint(IBMQ.providers()) \n\nprovider = IBMQ.get_provider(hub='ibm-q')\n\nprint (\"IBMQ backends: \")\n\nfor backend in provider.backends():\n    print(backend.name())\n    print(backend.configuration().open_pulse)"
    },
    {
      "cell_type": "code",
      "execution_count": 2,
      "metadata": {
        "trusted": true
      },
      "outputs": [
        {
          "name": "stderr",
          "output_type": "stream",
          "text": "ibmqfactory.load_account:WARNING:2020-10-19 17:30:42,141: Credentials are already in use. The existing account in the session will be replaced.\n"
        },
        {
          "name": "stdout",
          "output_type": "stream",
          "text": "Running on current least busy device:  ibmq_athens\n"
        }
      ],
      "source": "provider = IBMQ.load_account()\ndevice = least_busy(provider.backends(filters=lambda x: x.configuration().n_qubits >= 3 and \n                                   not x.configuration().simulator and x.status().operational==True))\nprint(\"Running on current least busy device: \", device)"
    },
    {
      "cell_type": "code",
      "execution_count": 3,
      "metadata": {
        "trusted": true
      },
      "outputs": [
        {
          "name": "stdout",
          "output_type": "stream",
          "text": "Status @ 0 s: VALIDATING, est. queue position: None\nStatus @ 10 s: QUEUED, est. queue position: 4\nStatus @ 21 s: QUEUED, est. queue position: 4\nStatus @ 31 s: QUEUED, est. queue position: 4\nStatus @ 41 s: QUEUED, est. queue position: 4\nStatus @ 51 s: QUEUED, est. queue position: 4\nStatus @ 62 s: QUEUED, est. queue position: 4\nStatus @ 72 s: QUEUED, est. queue position: 4\nStatus @ 82 s: QUEUED, est. queue position: 3\nStatus @ 92 s: QUEUED, est. queue position: 3\nStatus @ 102 s: QUEUED, est. queue position: 2\nStatus @ 113 s: QUEUED, est. queue position: 2\nStatus @ 123 s: QUEUED, est. queue position: 2\nStatus @ 133 s: QUEUED, est. queue position: 2\nStatus @ 143 s: QUEUED, est. queue position: 2\nStatus @ 154 s: QUEUED, est. queue position: 2\nStatus @ 164 s: QUEUED, est. queue position: 2\nStatus @ 174 s: QUEUED, est. queue position: 2\nStatus @ 184 s: QUEUED, est. queue position: 1\nStatus @ 195 s: QUEUED, est. queue position: 1\nStatus @ 205 s: QUEUED, est. queue position: 1\nStatus @ 215 s: QUEUED, est. queue position: 1\nStatus @ 225 s: QUEUED, est. queue position: 1\nStatus @ 236 s: QUEUED, est. queue position: 1\nStatus @ 246 s: QUEUED, est. queue position: 1\nStatus @ 256 s: RUNNING, est. queue position: None\nStatus @ 266 s: RUNNING, est. queue position: None\nStatus @ 277 s: DONE, est. queue position: None\n"
        }
      ],
      "source": "job = execute(qc, device, shots=1024)\n\nstart_time = time.time()\njob_status = job.status()\n\n#CANCELLED = 'job has been cancelled'\n#DONE = 'job has successfully run'\n#ERROR = 'job incurred error'\n#INITIALIZING = 'job is being initialized'\n#QUEUED = 'job is queued'\n#RUNNING = 'job is actively running'\n#VALIDATING = 'job is being validated'\n\nwhile job_status != job_status.DONE :\n    print(f'Status @ {time.time()-start_time:0.0f} s: {job_status.name},'\n          f' est. queue position: {job.queue_position()}')\n    time.sleep(10)\n    job_status = job.status()\n\nprint(f'Status @ {time.time()-start_time:0.0f} s: {job_status.name},'\n          f' est. queue position: {job.queue_position()}')"
    },
    {
      "cell_type": "code",
      "execution_count": null,
      "metadata": {
        "trusted": true
      },
      "outputs": [],
      "source": "result = job.result()\nprint(result.get_counts())"
    },
    {
      "cell_type": "code",
      "execution_count": null,
      "metadata": {
        "trusted": true
      },
      "outputs": [],
      "source": ""
    }
  ],
  "metadata": {
    "kernelspec": {
      "display_name": "Python 3",
      "language": "python",
      "name": "python3"
    },
    "language_info": {
      "codemirror_mode": {
        "name": "ipython",
        "version": 3
      },
      "file_extension": ".py",
      "mimetype": "text/x-python",
      "name": "python",
      "nbconvert_exporter": "python",
      "pygments_lexer": "ipython3",
      "version": "3.7.8"
    }
  },
  "nbformat": 4,
  "nbformat_minor": 2
}