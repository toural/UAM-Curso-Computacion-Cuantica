{
  "cells": [
    {
      "cell_type": "code",
      "execution_count": 1,
      "metadata": {
        "trusted": true
      },
      "outputs": [
        {
          "data": {
            "image/png": "[encoded data removed]",
            "text/plain": "<Figure size 274.013x204.68 with 1 Axes>"
          },
          "execution_count": 1,
          "metadata": {},
          "output_type": "execute_result"
        }
      ],
      "source": "from qiskit import *\nfrom qiskit_textbook.tools import array_to_latex\n\nmyQR = QuantumRegister(2)\nmyCR = ClassicalRegister(2)\n\nBell = QuantumCircuit(myQR, myCR)\n\nBell.h(myQR[0])\nBell.cx(myQR[0],myQR[1])\n\nBell.draw()"
    },
    {
      "cell_type": "code",
      "execution_count": 3,
      "metadata": {
        "scrolled": true,
        "trusted": true
      },
      "outputs": [
        {
          "name": "stdout",
          "output_type": "stream",
          "text": "[[ 0.70710678+0.00000000e+00j  0.70710678-8.65956056e-17j\n   0.        +0.00000000e+00j  0.        +0.00000000e+00j]\n [ 0.        +0.00000000e+00j  0.        +0.00000000e+00j\n   0.70710678+0.00000000e+00j -0.70710678+8.65956056e-17j]\n [ 0.        +0.00000000e+00j  0.        +0.00000000e+00j\n   0.70710678+0.00000000e+00j  0.70710678-8.65956056e-17j]\n [ 0.70710678+0.00000000e+00j -0.70710678+8.65956056e-17j\n   0.        +0.00000000e+00j  0.        +0.00000000e+00j]]\n"
        }
      ],
      "source": "# Run the quantum circuit on a unitary simulator backend\nunitBackend = Aer.get_backend('unitary_simulator')\n# Create a Quantum Program for execution \njob = execute(Bell, unitBackend)\nU = job.result().get_unitary(Bell,2)\n#get_unitary(experiment, decimals)\nprint(U)"
    },
    {
      "cell_type": "code",
      "execution_count": 4,
      "metadata": {
        "trusted": true
      },
      "outputs": [
        {
          "data": {
            "text/latex": "$\\displaystyle \n\\text{U} = \\begin{bmatrix}\n\\tfrac{1}{\\sqrt{2}} & \\tfrac{1}{\\sqrt{2}} & 0 & 0  \\\\\n0 & 0 & \\tfrac{1}{\\sqrt{2}} & -\\tfrac{1}{\\sqrt{2}}  \\\\\n0 & 0 & \\tfrac{1}{\\sqrt{2}} & \\tfrac{1}{\\sqrt{2}}  \\\\\n\\tfrac{1}{\\sqrt{2}} & -\\tfrac{1}{\\sqrt{2}} & 0 & 0  \\\\\n\\end{bmatrix}\n$$\n$",
            "text/plain": "<IPython.core.display.Math object>"
          },
          "metadata": {},
          "output_type": "display_data"
        }
      ],
      "source": "array_to_latex(U, pretext=\"\\\\text{U} = \", precision=1)"
    },
    {
      "cell_type": "code",
      "execution_count": 5,
      "metadata": {
        "trusted": true
      },
      "outputs": [
        {
          "data": {
            "text/latex": "$\\displaystyle \n\\text{Unitary} = \\begin{bmatrix}\n\\tfrac{1}{\\sqrt{2}} \\\\\n0 \\\\\n0 \\\\\n\\tfrac{1}{\\sqrt{2}}\n\\end{bmatrix}\n$",
            "text/plain": "<IPython.core.display.Math object>"
          },
          "metadata": {},
          "output_type": "display_data"
        }
      ],
      "source": "initial_state = [1,0,0,0]\n\nfinal_state = U@initial_state\n\narray_to_latex(final_state, pretext=\"\\\\text{Unitary} = \", precision=1)"
    },
    {
      "cell_type": "code",
      "execution_count": 6,
      "metadata": {
        "trusted": true
      },
      "outputs": [],
      "source": "import numpy as np\nfrom qiskit.aqua.operators import *\nimport qiskit.quantum_info as qi"
    },
    {
      "cell_type": "code",
      "execution_count": 7,
      "metadata": {
        "trusted": true
      },
      "outputs": [
        {
          "data": {
            "text/latex": "$\\displaystyle \n\\begin{bmatrix}\n0 & 1  \\\\\n1 & 0  \\\\\n\\end{bmatrix}\n$$\n$",
            "text/plain": "<IPython.core.display.Math object>"
          },
          "metadata": {},
          "output_type": "display_data"
        }
      ],
      "source": "qc6 = QuantumCircuit(1)\nqc6.x(0)\n\nqstate = qi.Operator(qc6)\narray_to_latex(qstate.data)"
    },
    {
      "cell_type": "code",
      "execution_count": 9,
      "metadata": {
        "trusted": true
      },
      "outputs": [
        {
          "data": {
            "text/latex": "$\\displaystyle \n\\begin{bmatrix}\n\\tfrac{1}{\\sqrt{2}} & \\tfrac{1}{\\sqrt{2}}  \\\\\n\\tfrac{1}{\\sqrt{2}} & -\\tfrac{1}{\\sqrt{2}}  \\\\\n\\end{bmatrix}\n$$\n$",
            "text/plain": "<IPython.core.display.Math object>"
          },
          "metadata": {},
          "output_type": "display_data"
        }
      ],
      "source": "qc6 = QuantumCircuit(1)\nqc6.u2(0,np.pi,0)\n\nqstate = qi.Operator(qc6)\narray_to_latex(qstate.data)"
    },
    {
      "cell_type": "code",
      "execution_count": 11,
      "metadata": {
        "trusted": true
      },
      "outputs": [
        {
          "data": {
            "text/latex": "$\\displaystyle \n\\begin{bmatrix}\n\\tfrac{1}{\\sqrt{2}} & \\tfrac{1}{\\sqrt{2}}  \\\\\n\\tfrac{1}{\\sqrt{2}} & -\\tfrac{1}{\\sqrt{2}}  \\\\\n\\end{bmatrix}\n$$\n$",
            "text/plain": "<IPython.core.display.Math object>"
          },
          "metadata": {},
          "output_type": "display_data"
        }
      ],
      "source": "qc6 = QuantumCircuit(1)\nqc6.h(0)\n\nqstate = qi.Operator(qc6)\narray_to_latex(qstate.data)"
    },
    {
      "cell_type": "code",
      "execution_count": 47,
      "metadata": {
        "trusted": true
      },
      "outputs": [],
      "source": "operator = Z ^ Z  # ^ represents a tensor product \noperator = Z ^ 2  # same thing, computes Z ^ Z\noperator = Z.tensorpower(2)  # same thing as Z ^ 2"
    },
    {
      "cell_type": "code",
      "execution_count": 48,
      "metadata": {
        "trusted": true
      },
      "outputs": [
        {
          "name": "stdout",
          "output_type": "stream",
          "text": "ZZ\n"
        }
      ],
      "source": "print (operator)"
    },
    {
      "cell_type": "code",
      "execution_count": 12,
      "metadata": {
        "trusted": true
      },
      "outputs": [
        {
          "name": "stdout",
          "output_type": "stream",
          "text": "<1|Z|1> = -1.0\n<0|Z|0> = 1.0\n"
        }
      ],
      "source": "operator = Z\n\npsi = One\n\nexpectation_value = (~psi @ operator @ psi).eval()\nprint(\"<1|Z|1> =\", expectation_value.real)\n\npsi = Zero\n\nexpectation_value = (~psi @ operator @ psi).eval()\nprint(\"<0|Z|0> =\", expectation_value.real)"
    },
    {
      "cell_type": "code",
      "execution_count": 50,
      "metadata": {
        "trusted": true
      },
      "outputs": [
        {
          "name": "stdout",
          "output_type": "stream",
          "text": "-0.9999999999999998\n"
        }
      ],
      "source": "operator = Z ^ Z \n\npsi = 1 / np.sqrt(2) * ((One ^ Zero) + (Zero ^ One))\n\nexpectation_value = (~psi @ operator @ psi).eval()\nprint(expectation_value.real)  # -1.0"
    },
    {
      "cell_type": "code",
      "execution_count": null,
      "metadata": {
        "trusted": true
      },
      "outputs": [],
      "source": ""
    },
    {
      "cell_type": "code",
      "execution_count": null,
      "metadata": {
        "trusted": true
      },
      "outputs": [],
      "source": ""
    }
  ],
  "metadata": {
    "kernelspec": {
      "display_name": "Python 3",
      "language": "python",
      "name": "python3"
    },
    "language_info": {
      "codemirror_mode": {
        "name": "ipython",
        "version": 3
      },
      "file_extension": ".py",
      "mimetype": "text/x-python",
      "name": "python",
      "nbconvert_exporter": "python",
      "pygments_lexer": "ipython3",
      "version": "3.7.8"
    }
  },
  "nbformat": 4,
  "nbformat_minor": 4
}